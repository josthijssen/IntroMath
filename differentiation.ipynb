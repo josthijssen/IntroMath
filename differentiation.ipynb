{
 "cells": [
  {
   "cell_type": "markdown",
   "metadata": {},
   "source": [
    "#Differentiation and derivatives\n",
    "\n",
    "Consider a real function $f$ which maps any real number $x$ onto another real number $f(x)$. \n",
    "The derivative $f'$ (or $df/dx$) in $x$ of the function $f$ is defined as \n",
    "$$\n",
    "f'(x) = \\frac{df(x)}{dx} = \\lim_{h\\rightarrow 0 } \\frac{f(x + h) - f(x) }{h},\n",
    "$$\n",
    "i.e., it calculates the slope of the graph of $f$. \n",
    "\n",
    "Suppose we know the value and derivative of a function $f$ in a point $a$. We can then obtain a first guess for values of $f$ assumed near a given point $a$ from the definition of the derivative: for small $h$ we find\n",
    "$$\n",
    "f(a+h) = f(a) + h f'(a).\n",
    "$$\n",
    "This is the first-order Taylor expansion.\n",
    "\n",
    "The second derivative can be found as the derivative of the derivative:\n",
    "$$\n",
    "\\frac{d^2f}{dx^2} = \\lim_{h\\rightarrow 0 } \\frac{f'(x + h) - f'(x) }{h},\n",
    "$$\n",
    "\n",
    "You should know the elementary rules for calculating the derivatives of common functions:\n",
    "$$\n",
    "f(x) = x^n {~~\\rightarrow ~~} f'(x) = n x^{n-1};\n",
    "$$\n",
    "\n",
    "$$\n",
    "f(x) = e^x {~~\\rightarrow ~~} f'(x) = e^x;\n",
    "$$\n",
    "\n",
    "$$\n",
    "f(x) = \\cos(x)  {~~\\rightarrow ~~} f'(x) = - \\sin(x);\n",
    "$$\n",
    "\n",
    "$$\n",
    "f(x) = \\sin(x)  {~~\\rightarrow ~~} f'(x) = \\cos(x);\n",
    "$$\n",
    "\n",
    "$$\n",
    "f(x) = \\tan(x)  {~~\\rightarrow ~~} f'(x) = 1 + \\tan^2(x) = \\frac{1}{\\cos(x)}. \n",
    "$$\n",
    "\n",
    "Without proof, we list two very important rules applying to the differentiation process:\n",
    "1. The **product rule** for the derivative of the product of two functions $f$ and $g$ says:\n",
    "$$ \\frac{d(fg)}{dx} = f' g + f g'.$$\n",
    "2. The **chain rule** allows us to calculate the derivative of a function which has another function as\n",
    "its argument. For two functions $f$ and $g$:\n",
    "$$ \\frac{d f(g(x))}{dx} = f'(g(x)) g'(x).$$\n",
    "\n",
    "Now let us approximate the function $f$ near the point $x_0$ by a second order polynomial:\n",
    "$$\n",
    "f_p(x_0+x) = f(x_0) + a_1 x + a_2 x^2,\n",
    "$$\n",
    "where the subscript $p$ indicates that this is a polynomial approximation. \n",
    "\n",
    "The 'best' polynomial is the one which has the same value, first and second derivative as $f$ in the point $x_0$ (i.e. for $x=0$). The first condition (values equal) is automatically satisfied. The first derivative of the polynomial is \n",
    "$$ f_p'(x_0+x) = a_1 + 2 a_2 x,\n",
    "$$\n",
    "which reduces to $a_1$ for $x=0$. We want this to match $f'(x_0)$, so we obtain\n",
    "$$ a_1 = f'(x_0).\n",
    "$$\n",
    "Contuing with the second derivative, we have \n",
    "$$ f_p''(x) = 2 a_2\n",
    "$$\n",
    "which is independent of $x$. \n",
    "This matches the second derivative of the function $f$ provided that\n",
    "$$\n",
    "a_2 = \\frac{1}{2} f''(x_0),\n",
    "$$\n",
    "so our polynomial is found to be\n",
    "$$\n",
    "f(x_0 + x) = f(x_0) + x f'(x_0) + \\frac{1}{2} x^2 f''(x_0).\n",
    "$$\n",
    "\n",
    "This procedure can be carried out for higher degrees of polynomials and leads to the Taylor series:\n",
    "$$\n",
    "f(x_0+x) = \\sum_{j=0}^\\infty \\frac{x^j}{j!}f^{(j)} (x_0),\n",
    "$$\n",
    "where $f^{(j)}(x_0)$ denotes the $j$-th derivative of $f$ taken in the point $x_0$. \n",
    "\n"
   ]
  },
  {
   "cell_type": "markdown",
   "metadata": {},
   "source": [
    "#Derivatives of functions with many variables\n",
    "Consider a function $f$ depending on many variables\n",
    "$$\n",
    "f : x_1, x_2, \\ldots , x_N \\rightarrow f(x_1, x_2, \\ldots, x_N),\n",
    "$$\n",
    "where the value on the right hand side is real. Such function are quite common in physics, $f$ could for example be the \n",
    "temperature in a point $x,y,z$ in the lecture hall. \n",
    "\n",
    "We generalise the derivative for this case to obtain the *partial derivative*:\n",
    "$$\n",
    "\\frac{\\partial f}{\\partial x_j} = \\lim_{h\\rightarrow 0} \\frac{f(x_1, \\ldots, x_j + h, \\ldots, x_N) - f(x_1, \\ldots, x_j, \\ldots, x_N)}{h},\n",
    "$$\n",
    "i.e., the partial derivative with respect to $x_j$ denotes the slope of the function *along the direction $j$*.\n",
    "\n",
    "The partial derivatives of a (real or complex) function can be collected into a vector: the *gradient*, which is denoted as $\\nabla f$:\n",
    "$$ \\nabla f = \\begin{pmatrix} \\frac{\\partial f}{\\partial x_1} \\\\\n",
    "                              \\frac{\\partial f}{\\partial x_2} \\\\\n",
    "                              \\vdots \\\\\n",
    "                              \\frac{\\partial f}{\\partial x_N} \\end{pmatrix} $$\n",
    "The *gradient operator* is a vector whose elements are derivative operators:\n",
    "$$ \\nabla = \\left( \\partial/\\partial x_1, \\partial/\\partial x_2, \\ldots, \\partial/\\partial x_N\\right).$$\n",
    "This operator is used very frequently.\n",
    "\n",
    "# Vector fields\n",
    "Consider a liquid in 3 dimensions. Important aspects of the liquid are density and temperature. These are functions depending on the space vector $\\newcommand{\\bfr}{{\\bf r}} \\newcommand{\\bfv}{{\\bf v}}$. For example, the temperature at a point $\\bfr$ is given as\n",
    "$T(\\bfr)$. The variation of the temperature throughout the liquid is then given by $\\boldsymbol{\\nabla} T(\\bfr)$. \n",
    "\n",
    "Another interesting aspect of the liquid is how it flows. The $x$-component of the velocity is also a multi-dimensional function $v_x(\\bfr)$, and we have similar functions for the $y$ and $z$ components. Lumping these together, we obtain a *vector field* $\\bfv(\\bfr) = \\left( v_x(\\bfr, v_y(\\bfr) v_z(\\bfr)\\right)$. We can take the dot product between this vector field and the gradient operator. This is known as the divergence, in short ${\\rm div}$:\n",
    "$$\n",
    "{\\rm div} \\; \\bfv(\\bfr) = \\nabla \\cdot \\bfv(\\bfr) = \\frac{\\partial v_x(\\bfr)}{\\partial x} + \\frac{\\partial v_y(\\bfr)}{\\partial y} + \\frac{\\partial v_z(\\bfr)}{\\partial z}.$$\n",
    "To imagine what this expression means, consider first $\\partial v_x /\\partial x$. This expresses how the velocity in the $x$-direction changes when moving along the $x$-axis. We add to this the change of $v_y$ along the $y$-axis and similar \n",
    "for $z$. Imagine we have a liquid with a constant density and consider a small line segment $\\Delta x$ along the $x$-axis. \n"
   ]
  },
  {
   "cell_type": "code",
   "execution_count": 60,
   "metadata": {
    "collapsed": false,
    "scrolled": true
   },
   "outputs": [
    {
     "data": {
      "image/png": "[encoded data removed]",
      "text/plain": [
       "<matplotlib.figure.Figure at 0x7fb605dd3910>"
      ]
     },
     "metadata": {},
     "output_type": "display_data"
    }
   ],
   "source": [
    "%matplotlib inline\n",
    "import numpy as np\n",
    "import matplotlib.pyplot as plt\n",
    "#import matplotlib.patches as patches\n",
    "from matplotlib.font_manager import FontProperties\n",
    "\n",
    "ax = plt.axes()\n",
    "ax.set_axis_off()\n",
    "font = FontProperties()\n",
    "font.set_size(50)\n",
    "ax.text(0.3,-0.15,'$\\Delta x$',fontproperties=font)\n",
    "ax.arrow(0, 0, 0.3, 0.0, head_width=0.05, head_length=0.1,length_includes_head=True, color='b', clip_on=False)\n",
    "ax.arrow(1.0, 0, 0.5, 0.0, head_width=0.05, head_length=0.1,length_includes_head=True, color='b', clip_on=False)\n",
    "ax.plot([0, 0.0], [0.0, -0.2], color='black', clip_on=False)\n",
    "ax.plot([1, 1], [0.0, -0.2], color='black', clip_on=False)\n",
    "ax.plot([0, 1], [-0.2, -0.2], '--', color='black', clip_on=False)\n",
    "ax.margins(0.5,0.5)\n",
    "plt.show()\n",
    "\n"
   ]
  },
  {
   "cell_type": "markdown",
   "metadata": {
    "collapsed": true
   },
   "source": [
    "The left arrow indicates the velocity, which, at a density which is constant in space, is the amount of fluid moving *into* the interval $\\Delta x$ per second. Similarly, the right arrow is the amount of material flowing *out of* the interval.\n",
    "Generalizing this to 3D, we see that $\\boldsymbol{\\nabla} \\cdot \\bfv d^3r$ is a measure of the rate at which the net amount of material inside a small box $d^3r = dx\\; dy\\; dz$ increases or decreases. \n",
    "\n",
    "The divergence also occurs often in problems involving electric fields. This is a vector field ${\\bf E}(\\bfr, t)$ which depends on space and on time. You may know that the electric field is itself a gradient of another function, the *potential*:\n",
    "$$\n",
    "{\\bf E}(\\bfr, t) = - \\boldsymbol{\\nabla} V(\\bfr, t)\n",
    "$$\n",
    "and we see that $\\boldsymbol{\\nabla}{\\bf E} = - \\nabla^2 V$. "
   ]
  },
  {
   "cell_type": "markdown",
   "metadata": {},
   "source": [
    "#Multidimensional integrals and the divergence theorem\n",
    "For a function $f(x_1, \\ldots, x_N)$ which maps $N$ coordinates to a real or complex number, we have seen "
   ]
  }
 ],
 "metadata": {
  "kernelspec": {
   "display_name": "Python 2",
   "language": "python",
   "name": "python2"
  },
  "language_info": {
   "codemirror_mode": {
    "name": "ipython",
    "version": 2
   },
   "file_extension": ".py",
   "mimetype": "text/x-python",
   "name": "python",
   "nbconvert_exporter": "python",
   "pygments_lexer": "ipython2",
   "version": "2.7.6"
  }
 },
 "nbformat": 4,
 "nbformat_minor": 0
}

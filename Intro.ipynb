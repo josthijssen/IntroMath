{
 "cells": [
  {
   "cell_type": "markdown",
   "metadata": {},
   "source": [
    "# Introduction to IntroMath\n",
    "This course provides a recap of the math you learned (or should have learned) in previous math courses. The material consists of Python notebooks. You can use this exclusively as online material, but you can also print out the pdf's that you can find on BlackBoard. It aims at providing a good basis for sustaining the math that will be thrown at you during the physics courses. \n",
    "I have aimed at covering the material which is necessary for the courses awaiting you without going too much into formal proofs. \n",
    "If you want to know more, you can look it up in Stuart's calculus book.\n",
    "\n",
    "It is important to realize that math should not be something you undergo, but rather something you actively practice. \n",
    "Therefore, doing the problems you can find at the end of each python notebook is extremely important. In fact, most of the contact hours of this course will be spent on doing the problems and exercises. For practicing with the problems, it is useful to know that their difficulty is indicated with a *D-code*:\n",
    "* [D1] means that this is an exercise you should be able to do without any problem. Very little calculation required. \n",
    "* [D2] means that this problem should be doable, but it may require some inventiveness or calculation.\n",
    "You can find additional exercises by following links embedded in the notebooks and in Stuart's book for example.\n",
    "* [D3] means that the problem is hard. You should put a lot of time into those problem, even if you do not see the solution right away.\n",
    "\n",
    "This course hopefully will be useful for the rest of your career as a physicist/engineer.\n",
    "\n",
    "Jos Thijssen,\n",
    "\n",
    "Delft, July 2015\n",
    "\n"
   ]
  },
  {
   "cell_type": "code",
   "execution_count": null,
   "metadata": {
    "collapsed": true
   },
   "outputs": [],
   "source": []
  }
 ],
 "metadata": {
  "kernelspec": {
   "display_name": "Python 2",
   "language": "python",
   "name": "python2"
  },
  "language_info": {
   "codemirror_mode": {
    "name": "ipython",
    "version": 2
   },
   "file_extension": ".py",
   "mimetype": "text/x-python",
   "name": "python",
   "nbconvert_exporter": "python",
   "pygments_lexer": "ipython2",
   "version": "2.7.6"
  }
 },
 "nbformat": 4,
 "nbformat_minor": 0
}

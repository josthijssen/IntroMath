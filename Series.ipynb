{
 "cells": [
  {
   "cell_type": "code",
   "execution_count": 30,
   "metadata": {
    "collapsed": true
   },
   "outputs": [],
   "source": [
    "%matplotlib inline\n",
    "import matplotlib.pyplot as plt\n",
    "import numpy as np\n",
    "import sys\n",
    "from mpl_toolkits.mplot3d import Axes3D\n",
    "from IPython.display import Image\n",
    "from IPython.display import HTML"
   ]
  },
  {
   "cell_type": "code",
   "execution_count": 31,
   "metadata": {
    "collapsed": false
   },
   "outputs": [
    {
     "data": {
      "application/javascript": [
       "IPython.load_extensions('gist');"
      ],
      "text/plain": [
       "<IPython.core.display.Javascript object>"
      ]
     },
     "metadata": {},
     "output_type": "display_data"
    }
   ],
   "source": [
    "%%javascript\n",
    "IPython.load_extensions('gist');"
   ]
  },
  {
   "cell_type": "code",
   "execution_count": 32,
   "metadata": {
    "collapsed": false
   },
   "outputs": [
    {
     "data": {
      "text/html": [
       "<script>\n",
       "code_show=true; \n",
       "function code_toggle() {\n",
       " if (code_show){\n",
       " $('div.input').hide();\n",
       " } else {\n",
       " $('div.input').show();\n",
       " }\n",
       " code_show = !code_show\n",
       "} \n",
       "$( document ).ready(code_toggle);\n",
       "</script>\n",
       "<form action=\"javascript:code_toggle()\"><input type=\"submit\" value=\"Click here to toggle on/off the raw code.\"></form>"
      ],
      "text/plain": [
       "<IPython.core.display.HTML object>"
      ]
     },
     "execution_count": 32,
     "metadata": {},
     "output_type": "execute_result"
    }
   ],
   "source": [
    "HTML('''<script>\n",
    "code_show=true; \n",
    "function code_toggle() {\n",
    " if (code_show){\n",
    " $('div.input').hide();\n",
    " } else {\n",
    " $('div.input').show();\n",
    " }\n",
    " code_show = !code_show\n",
    "} \n",
    "$( document ).ready(code_toggle);\n",
    "</script>\n",
    "<form action=\"javascript:code_toggle()\"><input type=\"submit\" value=\"Click here to toggle on/off the raw code.\"></form>''')"
   ]
  },
  {
   "cell_type": "markdown",
   "metadata": {},
   "source": [
    "$$\\newcommand{\\ii}{{\\rm i}}$$\n",
    "#A short story on series\n",
    "Sequence of (possibly complex) numbers is called a *series*. In physics we often encounter sums of such sequences. Here we review the three most inportant examples.\n",
    "\n",
    "#Arithmetic series\n",
    "\n",
    "The sum of an arithmetic series has the form \n",
    "$$\n",
    "S_N = a + (a + d) + (a + 2d) + (2 + 3d) + \\ldots + a + (N-1)d = \\sum_{n=0}^{N-1} (a + nd).\n",
    "$$\n",
    "The last term is $a + (N-1) d$ rather than $a+ Nd$ as we want to reserve $S_N$ for a series containing $N$ terms in total. The terms with $a$ add up simply to $Na$. Those with $d$ can be evaluated as\n",
    "$$ d\\sum_{n=0}^{N-1} n.\n",
    "$$\n",
    "The sum can be replaced by $N \\times$ the average of the summand $n$. The average is simple the highest plus the lowest value divided by 2. In this way we obtain:\n",
    "$$\n",
    "S_N = Na + d N(N-1)/2.\n",
    "$$\n",
    "As an example, \n",
    "$$\n",
    "3 + 4 + \\ldots + 12 = \\frac{3+12}{2} \\cdot 10 = 7\\frac{1}{2} \\cdot 10 = 75.\n",
    "$$\n",
    "\n",
    "#Geometric series\n",
    "The sum of a geometric series has the form\n",
    "$$\n",
    "S_N = a + ar + ar^2 + \\ldots + ar^{N-1}.\n",
    "$$\n",
    "To find a closed expression for this sum, we note that \n",
    "$$\n",
    "S_N = a \\sum_{n=0}^{N-1} r^n,\n",
    "$$\n",
    "i.e., only the sum over the powers of $r$ needs to be worked out. \n",
    "\n",
    "We put $a=1$ for now. \n",
    "We see that $S_0 = 1$, $S_1=1+r$ and $S_2 = 1 + r + r^2$ and so on. \n",
    "To find the sum, let us evaluate $(1-r)S_N$:\n",
    "$$\n",
    "(1-r)\\left( 1 + r + r^2 + \\ldots + r^{N-1}\\right) = (1 + r + r^2 + \\ldots + r^{N-1}) - (r + r^2 + r^3 + \\ldots + r^{N})\n",
    "$$\n",
    "We see that all terms in this expression cancel, except for the first and the last one. So we are left with\n",
    "$$\n",
    "(1-r)S_N = 1 - r^{N} \\rightarrow S_N = \\frac{1 - r^{N}}{1-r}.\n",
    "$$\n",
    " For $a\\neq 1$ we therefore have\n",
    "$$\n",
    " S_N = a \\frac{1 - r^{N}}{1-r}.\n",
    "$$\n",
    "\n",
    "Having this result, it can be checked by an interesting procedure called *induction*. This works as follows. First, check the correctness of the result for $N=0$. Then, assuming that the result is correct for all series of length $\\leq N$, prove that it is also correct for $S_{N+1}$.\n",
    "> **Exercise** Prove the correctness of the formula $\n",
    " S_N = a \\frac{1 - r^{N}}{1-r}.\n",
    "$ following this procedure.\n",
    "\n",
    "Having this result, it is possible to obtain other sums, for example:\n",
    "> ** Exercise** Prove that\n",
    "$$ \\tilde{S}_N = ar + ar^2 + \\ldots + ar^{N-1} = \\frac{r-r^N}{1-r}.\n",
    "$$\n",
    "\n",
    "For large $N$, the series converges to a finite result provided $|r|<1$. In that case, the term $r^{N}$ tends to zero and we are left with\n",
    "$$\n",
    "S_\\infty = \\frac{1}{1-r}, |r|<1.\n",
    "$$\n",
    "Note that $|r|$ must be *strictly smaller* than 1 for this result to hold.\n",
    "\n",
    "#Taylor expansion\n",
    "A special kind of series is the so-called *Taylor expansion*. This series is used extremely often in physics and engineering. The fundamental statement forming the basis of this expansion is that for a 1D function $f$ which is differentiable on an interval including the points $a$ and $a+h$:\n",
    "$$\n",
    "f(a+h) = f(a) + h f'(a) + {\\mathcal O} (h^2).\n",
    "$$\n",
    "The last term expresses the fact that reducing $h$ by a factor 2, the error goes down by a factor of $4$.\n",
    "This follows from the integral \n",
    "$$\n",
    "f(a+h) - f(a) = \\int_a^{a+h} f'(x)dx,\n",
    "$$\n",
    "by approximating the integrand by $f'(a)$, i.e. its value at the lower bound of the integral. \n",
    "If $f'$ is differentiable as well, we can put\n",
    "$$\n",
    "f'(x) = f'(a) + (x-a) f''(a).\n",
    "$$\n",
    "Inserting this into the integral, we obtain the result\n",
    "$$\n",
    "f(a+h) = f(a) + h f'(a) + \\frac{h^2}{2} f''(a) + {\\mathcal O} (h^3).\n",
    "$$\n",
    "This procedure can be repeated over and over to yield\n",
    "$$\n",
    "f(a+h) = f(a) + hf'(a) + \\frac{h^2}{2!} f''(a) + \\frac{h^3}{3!} f^{(3)}(a) + \\ldots + \\frac{h^n}{n!} f^{(n)} (a) + \\ldots\n",
    "$$\n",
    "where $n! = 1 \\cdot 2 \\cdot 3 \\cdots n$ and $f^{(n)}$ is the $n$-the derivative of the function $f$. Note that this works as long as $f$ is at least $n$ times differentiable.\n",
    "\n",
    "As an example, we perform the Taylor expansion of the exponential function. The derivative of $\\exp(x)$ is $\\exp(x)$, so we simply have\n",
    "$$\n",
    "e^x = 1 + x + \\frac{x^2}{2!} + \\frac{x^3}{3!} + \\ldots + \\frac{x^n}{n!} + \\ldots = \\sum_{j=0}^\\infty \\frac{1}{j!} x^j\n",
    "$$\n",
    "\n",
    "The Taylor expansion holds for real and for complex numbers. Using an imaginary exponent, we have\n",
    "$$\n",
    "e^{\\ii \\varphi} = 1 + \\ii \\varphi - \\frac{\\varphi^2}{2!} - \\ii \\frac{\\varphi^3}{3!} + \\frac{\\varphi^4}{4!} + \\ii \\ldots .\n",
    "$$\n",
    "We can write the left hand side as\n",
    "$$\n",
    "\\cos\\varphi + \\ii \\sin\\varphi.\n",
    "$$\n",
    "Putting this equal to the Taylor series expression, and realising that the equality should hold separately for the real and imaginary parts, we find\n",
    "$$\n",
    "\\cos\\varphi = 1 - \\frac{\\varphi^2}{2!} + \\frac{\\varphi^4}{4!} + \\ldots = \\sum_{j=0}^N \\frac{1}{(2j)!} (-\\varphi^2)^j  \n",
    "$$\n",
    "and\n",
    "$$\n",
    "\\sin\\varphi = \\varphi - \\frac{1}{3!} \\varphi^3 + \\ldots = \\sum_{j=0}^\\infty \\frac{1}{(2j+1)!} \\varphi (-\\varphi^2)^j.\n",
    "$$\n",
    "\n",
    "> **Exercise** Follow a similar procedure to find the Taylor expansions of $\\sinh(x)$ and $\\cosh(x)$. \n",
    "\n",
    "The convergence properties of series are very important to their application. The Taylor series does not \n",
    "always converge. Typically, when expanding a (complex) function around a point $a$, their may be an upper limit on the value of $h$ for which the series converges. To get insight into the convergence behaviour, it is necessary to consider the function on the complex plane. On that plane, the function may have singularities. The distance from\n",
    "the point $a$ to the *nearest* singularity is the *radius of convergence* $r_c$. When $h$ (which is now complex) approaches $|h| = r_c$, the convergence of the Taylor series breaks down. \n",
    "A dramatic example is show in the figure below, which shows the function \n",
    "$$\n",
    "f(x) = \\frac{1}{1+x^2}\n",
    "$$\n",
    "on the real axis, together with its Taylor expansion including $n=5$ and $n=20$ terms. We see that the deviation of the Taylor expansion from $f$ is dramatic when we approach $x=\\pm 1$. The reason for this is that there are singularities in the complex plane at $z = \\pm \\ii$ (verify this!) which limit the convergence radius to 1. We see that, even when the singularities are not in the direction of the expansion, they still have the effect of spoiling the convergence!"
   ]
  },
  {
   "cell_type": "code",
   "execution_count": 33,
   "metadata": {
    "collapsed": false
   },
   "outputs": [
    {
     "data": {
      "image/png": "[encoded data removed]",
      "text/plain": [
       "<matplotlib.figure.Figure at 0x7fdc38413150>"
      ]
     },
     "metadata": {},
     "output_type": "display_data"
    }
   ],
   "source": [
    "%matplotlib inline\n",
    "import numpy as np\n",
    "import matplotlib.pyplot as plt\n",
    "\n",
    "def taylor(n):\n",
    "  row = np.ndarray((n))\n",
    "  row[1:n:2] = 0\n",
    "  row[0:n:4] = 1.0\n",
    "  row[2:n:4] = -1.0\n",
    "  p=np.poly1d(row[::-1])\n",
    "  x = np.linspace(0.0, 1.1, 100)\n",
    "  y = p(x)\n",
    "  return x, y\n",
    "axes = plt.gca()\n",
    "axes.set_ylim([0.0,2.5])\n",
    "x, y1 = taylor(10)\n",
    "plt.plot(x,y1, label='10th order Taylor')\n",
    "x, y2 = taylor(50)\n",
    "plt.plot(x,y2, label='50th order Taylor')\n",
    "y3 = 1/(1+x**2)\n",
    "plt.plot(x,y3, label='Exact')\n",
    "plt.legend(loc='upper left')\n",
    "plt.show()\n"
   ]
  },
  {
   "cell_type": "markdown",
   "metadata": {},
   "source": [
    "#Problems\n",
    "\n",
    "1. Calculate the sum of the even numbers between $160$ and $254$ inclusive.\n",
    "2. You have invested &#8364;$3000$  in a friend's startup company. Your friend expects a return on your investment of $15$ % a year. What would he expect your investment to be worth after five years?\n",
    "3. Show that $$\\sum_{n=1}^\\infty n r^{n-1} = \\frac{1}{(1-r)^2}.$$\n",
    "4. The sum $\\sum_{n=1}^\\infty 1/n^2$ is known to be equal to be $S = \\pi^2/6$. By rearranging the terms in the series, show that\n",
    "$$\n",
    "\\sum_{n {~ \\rm odd}}^\\infty \\frac{1}{n^2} = \\frac{3S}{4}.\n",
    "$$\n",
    "5. Show that the Taylor series about $x=0$ of the function $1/(1-x)$ reads \n",
    " $$\n",
    " \\frac{1}{1-x} = 1 + x + x^2 + x^3 \\ldots\n",
    " $$\n",
    "\n",
    " Show that\n",
    " $$\n",
    " \\frac{1}{1+\\ii x} = 1 - \\ii x - x^2 + \\ii x^3 + x^4 - \\ldots = \\sum_{n=0}^\\infty \\left[ (-1)^n x^{2n} - \\ii (-1)^{n}\n",
    " x^{2n+1}\\right].\n",
    " $$\n",
    " \n",
    " Find the Taylor series for the function $1/(1+x^2)$ around $x=0$. Hint: use the previous result.\n",
    " \n",
    "6. In a system which is kept at temperature $T$, the relative probability of finding a configuration with energy $\\epsilon$ is given by $\\exp(-\\beta \\epsilon)$ where $\\beta = 1/k_{\\rm B} T$. Suppose we have system which can be in states labeled by the integer $n$ which have energies $\\epsilon_n = n \\epsilon_0$. \n",
    "\n",
    " The expectation value of the energy is given by \n",
    " $$\n",
    " \\langle{E}\\rangle = \\frac{\\sum_{n=0}^\\infty \\epsilon_n e^{-\\beta \\epsilon_n}}{\\sum_{n=0}^\\infty e^{-\\beta \\epsilon_n}}.\n",
    " $$\n",
    " Work out this average. "
   ]
  },
  {
   "cell_type": "markdown",
   "metadata": {
    "collapsed": true
   },
   "source": []
  }
 ],
 "metadata": {
  "kernelspec": {
   "display_name": "Python 2",
   "language": "python",
   "name": "python2"
  },
  "language_info": {
   "codemirror_mode": {
    "name": "ipython",
    "version": 2
   },
   "file_extension": ".py",
   "mimetype": "text/x-python",
   "name": "python",
   "nbconvert_exporter": "python",
   "pygments_lexer": "ipython2",
   "version": "2.7.6"
  }
 },
 "nbformat": 4,
 "nbformat_minor": 0
}

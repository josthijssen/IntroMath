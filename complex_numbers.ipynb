{
 "cells": [
  {
   "cell_type": "markdown",
   "metadata": {},
   "source": [
    "$$ \\newcommand{\\ii}{{\\rm i}}$$\n",
    "#Complex numbers\n",
    "\n",
    "Complex numbers are numbers of the form $$ z = a + b {\\rm i}.$$ Here i is the square root of -1:\n",
    "$$ {\\rm i} = \\sqrt{-1},$$\n",
    "or, equivalently:\n",
    "$$ {\\rm i}^2 = -1.$$\n",
    "\n",
    "Usual operations for numbers have their natural extension for complex numbers.\n",
    "1. Addition: $$z_1 = a_1 + b_1 {\\rm i};$$ $$z_2 = a_2 + b_2 {\\rm i}.$$ Then: \n",
    "$$z_1 + z_2 = (a_1 + a_2) + (b_1 + b_2) {\\rm i}.$$\n",
    "\n",
    "Definitions:\n",
    "\n",
    "-   For a complex number $z = a + b {{\\rm i}}$, $a$ is called the *real\n",
    "    part*, and $b$ the *imaginary part*.\n",
    "\n",
    "-   The *complex conjugate* $z^*$ of $z = a + b {{\\rm i}}$ is defined as\n",
    "    $$z^* = a - b{{\\rm i}},$$ i.e., taking the complex conjugate means\n",
    "    flipping the sign of the imaginary part.\n",
    "\n",
    "Addition\n",
    "--------\n",
    "\n",
    "For two complex numbers, $z_1 = a_1 + b_1 {{\\rm i}}$ and\n",
    "$z_2 = a_2 + b_2 {{\\rm i}}$, the sum $w = z_1 + z_2$ is given as\n",
    "$$w = w_1 + w_2 {{\\rm i}}= (a_1 + a_2) + (b_1 + b_2) {{\\rm i}}$$ where\n",
    "the parentheses on the rightmost side have been added to group the real and\n",
    "the imaginary part. A consequence of this definition is that the sum of\n",
    "a complex number and its complex conjugate is real:\n",
    "$$z + z^* = a + b {{\\rm i}}+ a - b {{\\rm i}}= 2a,$$ i.e., this results\n",
    "in twice the real part of $z$. Similarly, subtracting $z*$ from $z$ yields\n",
    "$$z - z^* = a + b {{\\rm i}} - a + b {{\\rm i}}= 2b,$$\n",
    "i.e., twice the imaginary part multiplied by $\\ii$.\n",
    "\n",
    "Multiplication\n",
    "--------------\n",
    "\n",
    "For the same two complex numbers $z_1$ and $z_2$ as above, their product\n",
    "is calculated as\n",
    "$$w = z_1 z_2 = (a_1 + b_1 {{\\rm i}}) (a_2 + b_2 {{\\rm i}}) = (a_1 a_2 - b_1 b_2) + (a_1 b_2 + a_2 b_1) {{\\rm i}},$$\n",
    "where the parenthesis have again be used to indicate the real and\n",
    "imaginary parts.\n",
    "\n",
    "A consequence of this definition is that the product of a complex number\n",
    "$z = a + b {{\\rm i}}$ with its conjugate is real:\n",
    "$$z z^* = (a+b{{\\rm i}})(a-b{{\\rm i}}) = a^2 + b^2.$$\n",
    "The square root of this number is the *norm* $|z|$ of $z$:\n",
    "$$ |z| = \\sqrt{z z^*} = \\sqrt{a^2 + b^2}. $$\n",
    "\n",
    "\n",
    "Division\n",
    "--------\n",
    "\n",
    "The quotient $z_1/z_2$ of two complex numbers $z_1$ and $z_2$ as above,\n",
    "can be evaluated by multiplying the numerator and denominator by the\n",
    "complex conjugate of $z_2$:\n",
    "$$\\frac{z_1}{z_2} = \\frac{z_1 z_2^*}{z_2 z_2^*} = \\frac{(a_1 a_2 + b_1 b_2) + (-a_1 b_2 + a_2 b_1) {{\\rm i}}}{a_2^2 + b_2^2}.$$\n",
    "Check this!"
   ]
  },
  {
   "cell_type": "code",
   "execution_count": 6,
   "metadata": {
    "collapsed": false
   },
   "outputs": [
    {
     "data": {
      "text/html": [
       "<script>\n",
       "code_show=true; \n",
       "function code_toggle() {\n",
       " if (code_show){\n",
       " $('div.input').hide();\n",
       " } else {\n",
       " $('div.input').show();\n",
       " }\n",
       " code_show = !code_show\n",
       "} \n",
       "$( document ).ready(code_toggle);\n",
       "</script>\n",
       "<form action=\"javascript:code_toggle()\"><input type=\"submit\" value=\"Click here to toggle on/off the raw code.\"></form>"
      ],
      "text/plain": [
       "<IPython.core.display.HTML object>"
      ]
     },
     "execution_count": 6,
     "metadata": {},
     "output_type": "execute_result"
    }
   ],
   "source": [
    "HTML('''<script>\n",
    "code_show=true; \n",
    "function code_toggle() {\n",
    " if (code_show){\n",
    " $('div.input').hide();\n",
    " } else {\n",
    " $('div.input').show();\n",
    " }\n",
    " code_show = !code_show\n",
    "} \n",
    "$( document ).ready(code_toggle);\n",
    "</script>\n",
    "<form action=\"javascript:code_toggle()\"><input type=\"submit\" value=\"Click here to toggle on/off the raw code.\"></form>''')"
   ]
  },
  {
   "cell_type": "markdown",
   "metadata": {},
   "source": [
    "#The complex plane\n",
    "\n",
    "Complex numbers can be rendered on a two-dimensional (2D) plane, the *complex plane*. This plane is spanned by two unit vectors, one horizontal, which represents the real number 1, whereas the vertical unit vector represents ${\\rm i}$. "
   ]
  },
  {
   "cell_type": "code",
   "execution_count": 7,
   "metadata": {
    "collapsed": false
   },
   "outputs": [
    {
     "data": {
      "image/png": "[encoded data removed]",
      "text/plain": [
       "<matplotlib.figure.Figure at 0x7fb3e005c090>"
      ]
     },
     "metadata": {},
     "output_type": "display_data"
    }
   ],
   "source": [
    "%matplotlib inline\n",
    "import numpy as np\n",
    "import matplotlib.pyplot as plt\n",
    "import matplotlib.patches as patches\n",
    "from matplotlib.font_manager import FontProperties\n",
    "from IPython.display import Image\n",
    "from IPython.display import HTML\n",
    "\n",
    "fig1=plt.figure()\n",
    "plt.xlim(-0.2, 1.1)\n",
    "plt.ylim(-0.2, 1.1)\n",
    "plt.grid(True)\n",
    "plt.axhline(linewidth=2.0, color=\"black\")\n",
    "plt.axvline(linewidth=2.0, color=\"black\")\n",
    "font = FontProperties()\n",
    "#font = font0.copy()\n",
    "font.set_size(30)\n",
    "plt.text(0.4,0.4,'$r$',fontproperties=font)\n",
    "plt.text(0.4,0.17,'$\\\\varphi$', fontproperties=font)\n",
    "plt.text(0.77,-0.09, '$a$', fontproperties=font)\n",
    "plt.text(-0.09,0.57, '$b$', fontproperties=font)\n",
    "plt.text(0.82,0.62, '$z$', fontproperties=font)\n",
    "x = np.array([0.0,0.72])\n",
    "y = np.array([0.0,0.53])\n",
    "plt.arrow(x[0],y[0],x[1],y[1],linewidth=2, head_width=0.05, head_length=0.1)\n",
    "#circle1=plt.Circle((0.8,0.6),.02,color='black')\n",
    "fig = plt.gcf()\n",
    "#fig.gca().add_artist(circle1)\n",
    "ax1 = fig1.add_subplot(111)\n",
    "ax1.add_patch(\n",
    "    patches.Arc((0.0, 0.0),   # (x,y)\n",
    "        0.85, 1.05, 0.0, 0.0, 32          # radius\n",
    "    )\n",
    ")\n",
    "plt.show()"
   ]
  },
  {
   "cell_type": "markdown",
   "metadata": {},
   "source": [
    "Note that the norm of $z$ is the length of this vector. "
   ]
  },
  {
   "cell_type": "markdown",
   "metadata": {},
   "source": [
    "Addition in the complex plane\n",
    "---------------------------------\n",
    "\n",
    "Adding two numbers in the complex plane corresponds to adding the horizontal and vertical components:\n",
    "\n"
   ]
  },
  {
   "cell_type": "code",
   "execution_count": 8,
   "metadata": {
    "collapsed": false
   },
   "outputs": [
    {
     "data": {
      "image/png": "[encoded data removed]",
      "text/plain": [
       "<matplotlib.figure.Figure at 0x7fb3e002ded0>"
      ]
     },
     "metadata": {},
     "output_type": "display_data"
    }
   ],
   "source": [
    "%matplotlib inline\n",
    "import numpy as np\n",
    "import matplotlib.pyplot as plt\n",
    "import matplotlib.patches as patches\n",
    "from matplotlib.font_manager import FontProperties\n",
    "from IPython.display import Image\n",
    "from IPython.display import HTML\n",
    "\n",
    "fig1=plt.figure()\n",
    "plt.xlim(-0.3, 2.1)\n",
    "plt.ylim(-0.3, 2.1)\n",
    "plt.grid(True)\n",
    "plt.axhline(linewidth=2.0, color=\"black\")\n",
    "plt.axvline(linewidth=2.0, color=\"black\")\n",
    "font = FontProperties()\n",
    "font.set_size(24)\n",
    "\n",
    "def vect_draw(x,y,label_x,label_y, vec_name, vec_col):\n",
    "    plt.text(0.9*x,-0.18, label_x, fontproperties=font)\n",
    "    plt.text(-0.18,0.98*y, label_y, fontproperties=font)\n",
    "    plt.text(0.9*x,1.1*y, vec_name, fontproperties=font)\n",
    "    x = np.array([0.0,x])\n",
    "    y = np.array([0.0,y])\n",
    "    plt.plot([x[1],x[1]],[y[0],y[1]],color=vec_col)\n",
    "    plt.plot([x[0],x[1]],[y[1],y[1]],color=vec_col)\n",
    "    plt.arrow(x[0],y[0],x[1],y[1],linewidth=2, head_width=0.05, head_length=0.1, length_includes_head=True, color=vec_col)\n",
    "\n",
    "vect_draw(0.8, 0.6, '$a_1$', '$b_1$', '$z_1$','blue')    \n",
    "vect_draw(0.3, 1.0, '$a_2$', '$b_2$', '$z_2$','red')    \n",
    "vect_draw(1.1, 1.6, '$a_1+a_2$', '$b_1+b_2$', '$z_1+z_2$','green')    \n",
    "plt.plot([0.8, 1.1], [0.6, 1.6], ':', color='black')\n",
    "plt.plot([0.3, 1.1], [1.0, 1.6], ':', color='black')\n",
    "fig = plt.gcf()\n",
    "plt.show()"
   ]
  },
  {
   "cell_type": "markdown",
   "metadata": {},
   "source": [
    "We see that the sum is found as the diagonal of a parallelogram spanned by the two numbers. \n",
    "\n",
    "Argument and Norm\n",
    "--------------------\n",
    "A complex number can be represented by two real numbers, $a$ and $b$ which represent the real and imaginary part of the complex number. An alternative representation is by a vector in the complex plane, whose horizontal component is the real, and vertical component the imaginary part. However, it is also possible to characterize that vector by its *length* and *direction*, which can be represented by the angle the vector makes with the horizontal axis:\n"
   ]
  },
  {
   "cell_type": "code",
   "execution_count": 9,
   "metadata": {
    "collapsed": false
   },
   "outputs": [
    {
     "data": {
      "text/plain": [
       "<matplotlib.text.Text at 0x7fb3c43a4a50>"
      ]
     },
     "execution_count": 9,
     "metadata": {},
     "output_type": "execute_result"
    },
    {
     "data": {
      "image/png": "[encoded data removed]",
      "text/plain": [
       "<matplotlib.figure.Figure at 0x7fb3c45b0150>"
      ]
     },
     "metadata": {},
     "output_type": "display_data"
    }
   ],
   "source": [
    "fig1=plt.figure()\n",
    "plt.xlim(-0.3, 1.1)\n",
    "plt.ylim(-0.3, 1.1)\n",
    "plt.grid(True)\n",
    "plt.axhline(linewidth=2.0, color=\"black\")\n",
    "plt.axvline(linewidth=2.0, color=\"black\")\n",
    "font = FontProperties()\n",
    "font.set_size(24)\n",
    "\n",
    "def vect_draw(x,y,label_x,label_y, vec_name, vec_col):\n",
    "    plt.text(0.9*x,-0.18, label_x, fontproperties=font)\n",
    "    plt.text(-0.18,0.98*y, label_y, fontproperties=font)\n",
    "    plt.text(0.9*x,1.1*y, vec_name, fontproperties=font)\n",
    "    x = np.array([0.0,x])\n",
    "    y = np.array([0.0,y])\n",
    "    plt.plot([x[1],x[1]],[y[0],y[1]],color=vec_col)\n",
    "    plt.plot([x[0],x[1]],[y[1],y[1]],color=vec_col)\n",
    "    plt.arrow(x[0],y[0],x[1],y[1],linewidth=2, head_width=0.05, head_length=0.1, length_includes_head=True, color=vec_col)\n",
    "\n",
    "vect_draw(0.8, 0.6, '$a_1$', '$b_1$', '$z_1$','blue')    \n",
    "ax1 = fig1.add_subplot(111)\n",
    "ax1.add_patch(\n",
    "    patches.Arc((0.0, 0.0),   # (x,y)\n",
    "        0.85, 1.05, 0.0, 0.0, 32          # radius\n",
    "    )\n",
    ")\n",
    "plt.text(0.4,0.4,'$r$',fontproperties=font)\n",
    "plt.text(0.4,0.17,'$\\\\varphi$', fontproperties=font)\n"
   ]
  },
  {
   "cell_type": "markdown",
   "metadata": {},
   "source": [
    "The angle with the horizontal axis is denoted by $\\varphi$, just as in the case of polar coordinates. In the context of complex numbbers, this angle is denoted as the *argument*. We have:\n",
    "> A complex number can be represented either by its real and imaginary part, corresponding to the Cartesian coordinates in the complex plane, or\n",
    "> by its *norm* and its *argument*. The norm is the length of the vector, and the argument the angle it makes with the horizontal axis.\n",
    "\n",
    "From our previous discussion on polar coordinates we can conclude that for a complex number $z = a + b {\\rm i}$, its real and imaginary parts can be expressed as \n",
    "$$ a = |z| \\cos\\varphi $$\n",
    "$$ b = |z| \\sin\\varphi $$\n",
    "The inverse equations are\n",
    "$$ |z| = \\sqrt{a^2 + b^2}$$\n",
    "$$\\varphi = \\arctan(b/a) $$"
   ]
  },
  {
   "cell_type": "markdown",
   "metadata": {},
   "source": [
    "Complex functions\n",
    "-------------------\n",
    "A complex function $f$ maps any complex number $z$ onto another complex number $f(z)$. Just as with real functions, we can define the derivative of a complex function:\n",
    "$$\n",
    "\\frac{df(z)}{dz} = \\lim_{dz \\rightarrow 0} \\frac{f(z+dz) - f(z)}{dz}.\n",
    "$$\n",
    "It is useful to comtemplate this expression for some time. The number $dz$ in this expression is a *complex* number with vanishingly small norm. However, its *direction* (i.e.\\ its *argument*) is not specified. A complex function is called *differentiable* only if the limit exists and gives one and the same number, irrespective of the direction of $dz$. \n",
    "\n",
    "\n",
    "Let's see whether we can find a condition for this to happen. We assume that the function $f$ is continuous. \n",
    "Note that, as $f$ is complex, it can be written as a real plus an imaginary part:\n",
    "$$\n",
    "f(z) = u(z) + {\\rm i} v(z).\n",
    "$$\n",
    "For $z=x + \\ii y$, we can write the two function $u$ and $v$ in terms of $x$ and $y$. Let us assume that the two partial derivatives \n",
    "of these functions exist.\n",
    "\n",
    "Calculating the\n",
    "partial derivatives of $f$ with respect to $x$ and $y$ yields:\n",
    "$$\n",
    "\\frac{\\partial f(z)}{\\partial x} = \\lim_{dx \\rightarrow 0} \\frac{f(z+dx) - f(z)}{dx} = \\frac{\\partial u}{\\partial x} + {\\rm i} \\frac{\\partial v}{\\partial x},\n",
    "$$\n",
    "and \n",
    "$$\n",
    "\\frac{\\partial f(z)}{\\partial y} = \\lim_{dy \\rightarrow 0} \\frac{f(z+{\\rm i} dy) - f(z)}{dy} = \\frac{\\partial u}{\\partial y} + {\\rm i} \\frac{\\partial v}{\\partial y}.\n",
    "$$\n",
    "Unlike $df/dz$, these derivatives are always defined. \n",
    "In terms of these two partial derivatives, we can find the derivative with respect to any direction using first-order\n",
    "Taylor expansions. Taking $dz = d x + {\\rm i} dy$, we have\n",
    "$$\n",
    "f(z + dz) = u(x+dx, y+dy) + {\\rm i} v(x+dx, y+dy) = u(x,y) + {\\rm i} v(x,y) + dx \\frac{\\partial u}{\\partial x} + dy \\frac{\\partial u}{\\partial y} + \n",
    "{\\rm i} \\left[ dx \\frac{\\partial v}{\\partial x} + dy \\frac{\\partial  v}{\\partial y} \\right].\n",
    "$$\n",
    "Collecting the terms proportional to $dx$ and $dy$ respectively we obtain:\n",
    "$$\n",
    "f(z + dz ) = f(z) + \\left( \\frac{\\partial u}{\\partial x} + {\\rm i} \\frac{\\partial v}{\\partial x} \\right) dx +\n",
    "{\\rm i} \\left( \\frac{\\partial u}{\\partial y} + {\\rm i} \\frac{\\partial v}{\\partial y} \\right) dy.\n",
    "$$\n",
    "If the derivative $df/dz$ exists, the right hand side divided by $dz$ should be proportional to $dz=dx + {\\rm i} dy$!\n",
    "Writing\n",
    "$$\n",
    "f(z + dz ) - f(z) = \\left( \\frac{\\partial u}{\\partial x} + {\\rm i} \\frac{\\partial v}{\\partial x} \\right) dx +\n",
    "{\\rm i} \\left( -{\\rm i} \\frac{\\partial u}{\\partial y} + \\frac{\\partial v}{\\partial y} \\right) dy\n",
    "$$\n",
    "(check this!). Thus, $f(z)$ is differentiable only when \n",
    "$$\n",
    "\\frac{\\partial u}{\\partial x} + {\\rm i} \\frac{\\partial v}{\\partial x} = -{\\rm i} \\frac{\\partial u}{\\partial y} + \\frac{\\partial v}{\\partial y}.\n",
    "$$\n",
    "Equating the real and imaginary parts of the left and right hand side we obtain the \n",
    ">*Cauchy Riemann* differential equations:\n",
    "> $$ \n",
    "\\frac{\\partial u}{\\partial x} = \\frac{\\partial v}{\\partial y} {~~~ \\rm and ~~~ } \\frac{\\partial v}{\\partial x} = - \n",
    "\\frac{\\partial u}{\\partial y}.\n",
    "$$ \n",
    "> The derivative is then given as \n",
    "$$\n",
    "\\frac{df}{dz} = \\frac{\\partial u}{\\partial x} + {\\rm i} \\frac{\\partial v}{\\partial x}.\n",
    "$$\n",
    ">A complex function whose real and imaginary part ($u$ and $v$) obey the Cauchy-Riemann differential equations in a point $z$, is complex differentiable at the point $z$.\n",
    "\n",
    "Note that differentiability is a property which not only pertains to a function, but also to a point.\n",
    "\n",
    "It can be shown that a complex function which is differentiable in $z$, is infinitely differentiable. Such a function is called *analytic* in the point $z$. An analytic function can be expanded in an inifinite series near any point where the function is analytic.\n",
    "Here, \"near any\" point indicates that the series converges and coincides with $f$ only on a *circle* in the complex plane. The radius of that circle is limited to the distance of $z$ to the nearest point $w$ where the function is not analytic. \n",
    "\n",
    "Recall that the Taylor series around a complex point $a$ has the form\n",
    "$$\n",
    "f(a+z) = \\sum_{n=0}^\\infty d_i (z-a)^i,\n",
    "$$\n",
    "where\n",
    "$$\n",
    "d_i = \\frac{1}{i!} f^{(i)} (a).\n",
    "$$\n",
    "Here, $f^{(i)}(a)$ denotes the $i$-the derivative of the function $f$ in the point $a$.\n"
   ]
  },
  {
   "cell_type": "markdown",
   "metadata": {},
   "source": [
    "The complex exponential function\n",
    "-------------------------------------\n",
    "The exponential function $f(z) = \\exp(z) = e^z$ is defined in terms of the norm $|z|$ and its argument $\\varphi$ (see above) as:\n",
    "$$\n",
    "\\exp(z) = e^{|z|} \\left( \\cos\\varphi + {\\rm i} \\sin\\varphi\\right).\n",
    "$$\n",
    "This function preserves the argument $\\varphi$ but it replaces the norm of $|z|$ by its exponential. From this, we can write it in terms of its arguments $x$ and $y$:\n",
    "$$\n",
    "f(z) = e^\\sqrt{x^2 + y^2} \\frac{x + {\\rm i} y}{\\sqrt{x^2 + y^2}}.\n",
    "$$\n",
    "\n",
    "** Exercise **\n",
    "Check that this function obeys \n",
    "$$ \n",
    "\\exp(z_1) \\exp(z_2) = \\exp(z_1 + z_2)\n",
    "$$\n",
    "(hint: use the representation in terms of the norm and argument)\n",
    "\n",
    "** Exercise **\n",
    "Check that $\\exp(z)$ obeys the Cauchy-Riemann equations and that the derivative is\n",
    "the exponential function itself:\n",
    "$$\n",
    "\\frac{d \\exp(z)}{dz} = \\exp(z).\n",
    "$$\n",
    "\n",
    "We have seen that $\\exp(z) = e^{|z|}(\\cos\\varphi + \\ii \\sin\\varphi).$ In *real calculus*, the exponential function is the inverse of the logarithm. We want the same to hold for the complex exponential and logarithm. Writing $\\log z=u + \\ii v$, we should have $\\exp(\\log z) = z = \\exp(u) \\left( \\cos v + \\ii \\sinv\\right)  $. We can write $z$ as\n",
    "$$\n",
    "z = |z| (\\cos\\varphi + \\ii \\sin\\varphi)\n",
    "$$\n",
    "($\\varphi = \\arg(z)$)\n",
    "and comparing this with $\\exp(\\log z)$, we see that $u = \\log |z|$ and $v = \\arg(z)$. So we have found\n",
    "$$\n",
    "\\log z = \\log|z| + \\ii \\arg(z).\n",
    "$$\n",
    "\n",
    "The complex exponential is used *extremely often*. It occurs in Fourier transforms and is very convenient for \n",
    "doing calculations involving cosines and sines.\n",
    "\n",
    "Let us show some tricks where the simple properties of the exponential function helps in deriving trigoniometric identities.\n",
    "1. Take $|z_1| = |z_2| = 1$, and $\\arg{z_1} = \\varphi_1$ ('arg($z$)' denotes the argument of $z$) and $\\arg{z_2} = \\varphi_2$. Then it is easy to see that $z_i = \\exp({\\rm i} \\varphi_i)$, $i=1, 2$. Then:\n",
    "$$\n",
    "z_1 z_2 = \\exp[{\\rm i} (\\varphi_1 + \\varphi_2)].\n",
    "$$\n",
    "The left hand side can be written as \n",
    "$$\n",
    "z_1 z_2 = \\left[ \\cos(\\varphi_1) + {\\rm i} \\sin(\\varphi_1) \\right] \\left[ \\cos(\\varphi_2) + {\\rm i} \\sin(\\varphi_2) \\right] = \\cos\\varphi_1 \\cos\\varphi_2 - \\sin\\varphi_1 \\sin\\varphi_2 + {\\rm i} \\left( \\cos\\varphi_1 \\sin\\varphi_2 + \n",
    "\\sin\\varphi_1 \\cos\\varphi_2 \\right).\n",
    "$$\n",
    "On the other hand, the right hand side can be written as\n",
    "$$\n",
    "\\exp[{\\rm i} (\\varphi_1 + \\varphi_2)] = \\cos(\\varphi_1 + \\varphi_2) + {\\rm i} \\sin(\\varphi_1 + \\varphi_2).\n",
    "$$\n",
    "Comparing the two expressions, equating their real and imaginary parts, we find\n",
    "$$\n",
    "\\cos(\\varphi_1 + \\varphi_2) = \\cos\\varphi_1 \\cos\\varphi_2 - \\sin\\varphi_1 \\sin\\varphi_2;\n",
    "$$\n",
    "$$\n",
    "\\sin(\\varphi_1 + \\varphi_2) = \\cos\\varphi_1 \\sin\\varphi_2 + \n",
    "\\sin\\varphi_1 \\cos\\varphi_2.\n",
    "$$\n",
    " \n",
    "2. As a final example, consider what we can learn from the derivative of the exponential function:\n",
    "$$\n",
    "\\frac{d}{d\\varphi} \\exp({\\rm i} \\varphi) = {\\rm i} \\exp({\\rm i} \\varphi) .\n",
    "$$\n",
    "Writing out the exponential in terms of cosine and sine, we see that\n",
    "$$\n",
    "\\cos'\\varphi + {\\rm i} \\sin'\\varphi = {\\rm i} \\cos\\varphi - \\sin\\varphi.\n",
    "$$\n",
    "where the prime $'$ denotes the derivative as usual. \n",
    "Equating real and imaginary parts leads to\n",
    "$$\n",
    "\\cos'\\varphi = - \\sin\\varphi;\n",
    "$$\n",
    "$$\n",
    "\\sin'\\varphi = \\cos\\varphi.\n",
    "$$\n"
   ]
  },
  {
   "cell_type": "markdown",
   "metadata": {},
   "source": [
    "Hyperbolic functions\n",
    "-----------------------\n",
    "From $e^{\\ii \\varphi} = \\left( \\cos\\varphi + {\\rm i} \\sin\\varphi\\right)$, it immediately follows that\n",
    "$$\\cos\\varphi = \\frac{e^{{\\rm i} \\varphi} + e^{-{\\rm i} \\varphi}}{2}.\n",
    "$$ and\n",
    "$$\\sin\\varphi = \\frac{e^{{\\rm i} \\varphi} - e^{-{\\rm i} \\varphi}}{2{\\rm i}}.\n",
    "$$\n",
    "It is then tempting to generalise these functions for imaginary angles. These functions are known as hyperbolic functions. They are are called hyperbolic cosine and hyperbolic sine functions and they are denoted as $\\sinh$ and $\\cosh$:\n",
    "$$\n",
    "\\cosh(x) = \\frac{e^x + e^{-x}}{2};\n",
    "$$\n",
    "$$\n",
    "\\sinh(x) = \\frac{e^x - e^{-x}}{2}.\n",
    "$$\n",
    "From these definitions the following properties can easily be derived.\n",
    "1. Derivatives\n",
    "$$ \\frac{d\\cosh(x)}{dx} = \\sinh(x);$$\n",
    "$$ \\frac{d\\sinh(x)}{dx} = \\cosh(x).$$\n",
    "2. $$\\cosh^2(x) - \\sinh^2(x) = 1.$$\n",
    "3. 'Double angle' formulas:\n",
    "   $$ \\cosh(2x) = \\cosh^2(x) + \\sinh^2(x); $$\n",
    "   $$ \\sinh(2x) = 2\\cosh(x) \\sinh(2x). $$\n",
    "   \n",
    "It may seem that these function are rather exotic; however they occur in everyday life: the shape of power lines and of \n",
    "soap films can be described by hyperbolic cosines and sines!\n",
    "\n",
    "Finally, the hyperbolic tangent is defined as\n",
    "$$\n",
    "\\tanh(x) = \\frac{\\sinh(x)}{\\cosh(x)}.\n",
    "$$\n",
    "Its derivative is given as \n",
    "$$\n",
    "\\tanh'(x) = 1 + \\frac{\\sinh^2 x}{\\cosh^2 (x)} = - \\frac{1}{\\cosh^2(x)}.\n",
    "$$"
   ]
  },
  {
   "cell_type": "markdown",
   "metadata": {
    "collapsed": true
   },
   "source": [
    "#Problems\n",
    "1. Given $a=1+2\\ii$ and $b=4-2\\ii$, draw in the complex plane the numbers $a+b$, $a-b$, $ab$, $a/b$, $e^a$ and $\\ln(a)$.\n",
    "2. Evaluate (i) $\\ii^{1/4}$, (ii) $\\left(-1+\\sqrt{3}\\right)^{1/2}$, (iii) $\\exp(2\\ii^3)$. \n",
    "3. Evaluate $$\n",
    "  \\left| \\frac{a+b\\ii}{a-b\\ii} \\right|\n",
    "  $$ for real $a$ and $b$.\n",
    "4. Show that $\\cos x = \\cosh(\\ii x)$ and $\\cos(\\ii x) = \\cosh x$. Derive similar relations for $\\sinh$ and $\\sin$.\n",
    "\n",
    "   Show that $\\cosh^2 x - \\sinh^2 x = 1$.\n",
    "   \n",
    "   Also show that $\\cosh x$ is a solution to the differential equation\n",
    "   $$ y'' = \\sqrt{1 + y'^2}.$$\n",
    "5. Show that the Cauchy-Riemann equations imply that the real and imaginary part of a differentiable complex   function both represent solutions to the Laplace equation, i.e.\n",
    " $$ \\frac{\\partial^2 u}{\\partial x^2} + \\frac{\\partial^2 u}{\\partial y^2} = 0,\n",
    " $$\n",
    " for the real part $u$ of the function, and similarly for the imaginary part $v$.\n",
    "6. Show that the set of points $z$ obeying \n",
    "$$ | z - \\ii a| = \\lambda |z + \\ii a|, $$ from a circle with radius $2|\\lambda/(1-\\lambda^2)| a$ centered on\n",
    "the point $\\ii a (1+\\lambda^2)/(1-\\lambda^2)$.\n",
    "7. In two dimensions, the Coulomb potential is proportional to $\\log |r|$. Viewing the 2D space as a complex\n",
    "plane, this is $\\log |z|$. Consider a system consisting of charges $q_i$ placed at 'positions' $z_i$. \n",
    "Show that a Taylor expansion of the Coulomb potential at the point $z$ is given by \n",
    "$$ U(z) = \\sum_i q_i\\ln(z-z_i) = a_0 \\log z - \\sum_{k=1}^M \\frac{a_k}{z^k} + {\\mathcal O} \\left( \\frac{R}{z} \\right)^{M+1}\n",
    "$$\n",
    "where\n",
    "$$\n",
    "a_0 = \\sum_i q_i {\\rm ~~ and ~~} a_k = \\sum_{i=1}^{N_c} \\frac{q_i z_i^k}{k}, k\\geq 1. $$\n",
    "\n",
    " This is called a *multipole expansion*. A similar expansion exist in three dimensions. "
   ]
  },
  {
   "cell_type": "code",
   "execution_count": null,
   "metadata": {
    "collapsed": true
   },
   "outputs": [],
   "source": []
  }
 ],
 "metadata": {
  "kernelspec": {
   "display_name": "Python 2",
   "language": "python",
   "name": "python2"
  },
  "language_info": {
   "codemirror_mode": {
    "name": "ipython",
    "version": 2
   },
   "file_extension": ".py",
   "mimetype": "text/x-python",
   "name": "python",
   "nbconvert_exporter": "python",
   "pygments_lexer": "ipython2",
   "version": "2.7.6"
  }
 },
 "nbformat": 4,
 "nbformat_minor": 0
}
